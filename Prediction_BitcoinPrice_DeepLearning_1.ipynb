{
 "cells": [
  {
   "cell_type": "code",
   "execution_count": 141,
   "metadata": {},
   "outputs": [],
   "source": [
    "import talib"
   ]
  },
  {
   "cell_type": "code",
   "execution_count": 142,
   "metadata": {},
   "outputs": [],
   "source": [
    "import pandas as pd, numpy as np, matplotlib.pyplot as plt\n",
    "from sklearn.preprocessing import MinMaxScaler\n",
    "from tensorflow.keras.layers import Dense, Dropout, LSTM\n",
    "from tensorflow.keras.models import Sequential"
   ]
  },
  {
   "cell_type": "code",
   "execution_count": 143,
   "metadata": {},
   "outputs": [
    {
     "data": {
      "text/html": [
       "<div>\n",
       "<style scoped>\n",
       "    .dataframe tbody tr th:only-of-type {\n",
       "        vertical-align: middle;\n",
       "    }\n",
       "\n",
       "    .dataframe tbody tr th {\n",
       "        vertical-align: top;\n",
       "    }\n",
       "\n",
       "    .dataframe thead th {\n",
       "        text-align: right;\n",
       "    }\n",
       "</style>\n",
       "<table border=\"1\" class=\"dataframe\">\n",
       "  <thead>\n",
       "    <tr style=\"text-align: right;\">\n",
       "      <th></th>\n",
       "      <th>Currency</th>\n",
       "      <th>Date</th>\n",
       "      <th>Closing Price (USD)</th>\n",
       "      <th>24h Open (USD)</th>\n",
       "      <th>24h High (USD)</th>\n",
       "      <th>24h Low (USD)</th>\n",
       "    </tr>\n",
       "  </thead>\n",
       "  <tbody>\n",
       "    <tr>\n",
       "      <th>0</th>\n",
       "      <td>BTC</td>\n",
       "      <td>2020-03-24</td>\n",
       "      <td>6455.454688</td>\n",
       "      <td>5829.352511</td>\n",
       "      <td>6620.858253</td>\n",
       "      <td>5694.198299</td>\n",
       "    </tr>\n",
       "    <tr>\n",
       "      <th>1</th>\n",
       "      <td>BTC</td>\n",
       "      <td>2020-03-25</td>\n",
       "      <td>6784.318011</td>\n",
       "      <td>6455.450650</td>\n",
       "      <td>6863.602196</td>\n",
       "      <td>6406.037439</td>\n",
       "    </tr>\n",
       "    <tr>\n",
       "      <th>2</th>\n",
       "      <td>BTC</td>\n",
       "      <td>2020-03-26</td>\n",
       "      <td>6706.985089</td>\n",
       "      <td>6784.325204</td>\n",
       "      <td>6981.720386</td>\n",
       "      <td>6488.111885</td>\n",
       "    </tr>\n",
       "    <tr>\n",
       "      <th>3</th>\n",
       "      <td>BTC</td>\n",
       "      <td>2020-03-27</td>\n",
       "      <td>6721.495392</td>\n",
       "      <td>6697.948320</td>\n",
       "      <td>6796.053701</td>\n",
       "      <td>6537.856462</td>\n",
       "    </tr>\n",
       "    <tr>\n",
       "      <th>4</th>\n",
       "      <td>BTC</td>\n",
       "      <td>2020-03-28</td>\n",
       "      <td>6682.780049</td>\n",
       "      <td>6718.084872</td>\n",
       "      <td>6865.541424</td>\n",
       "      <td>6597.307584</td>\n",
       "    </tr>\n",
       "  </tbody>\n",
       "</table>\n",
       "</div>"
      ],
      "text/plain": [
       "  Currency        Date  Closing Price (USD)  24h Open (USD)  24h High (USD)  \\\n",
       "0      BTC  2020-03-24          6455.454688     5829.352511     6620.858253   \n",
       "1      BTC  2020-03-25          6784.318011     6455.450650     6863.602196   \n",
       "2      BTC  2020-03-26          6706.985089     6784.325204     6981.720386   \n",
       "3      BTC  2020-03-27          6721.495392     6697.948320     6796.053701   \n",
       "4      BTC  2020-03-28          6682.780049     6718.084872     6865.541424   \n",
       "\n",
       "   24h Low (USD)  \n",
       "0    5694.198299  \n",
       "1    6406.037439  \n",
       "2    6488.111885  \n",
       "3    6537.856462  \n",
       "4    6597.307584  "
      ]
     },
     "execution_count": 143,
     "metadata": {},
     "output_type": "execute_result"
    }
   ],
   "source": [
    "data  = pd.read_csv('BTCUSD.csv')\n",
    "data.head()"
   ]
  },
  {
   "cell_type": "code",
   "execution_count": 144,
   "metadata": {},
   "outputs": [
    {
     "data": {
      "text/plain": [
       "(549, 6)"
      ]
     },
     "execution_count": 144,
     "metadata": {},
     "output_type": "execute_result"
    }
   ],
   "source": [
    "data.shape"
   ]
  },
  {
   "cell_type": "code",
   "execution_count": null,
   "metadata": {},
   "outputs": [],
   "source": [
    "from sklearn.model_selection import train_test_split"
   ]
  },
  {
   "cell_type": "code",
   "execution_count": 145,
   "metadata": {},
   "outputs": [
    {
     "data": {
      "text/plain": [
       "Index(['Currency', 'Date', 'Closing Price (USD)', '24h Open (USD)',\n",
       "       '24h High (USD)', '24h Low (USD)'],\n",
       "      dtype='object')"
      ]
     },
     "execution_count": 145,
     "metadata": {},
     "output_type": "execute_result"
    }
   ],
   "source": [
    "data.columns"
   ]
  },
  {
   "cell_type": "code",
   "execution_count": 146,
   "metadata": {},
   "outputs": [
    {
     "data": {
      "text/plain": [
       "(549,)"
      ]
     },
     "execution_count": 146,
     "metadata": {},
     "output_type": "execute_result"
    }
   ],
   "source": [
    "data['Closing Price (USD)'].values.shape"
   ]
  },
  {
   "cell_type": "code",
   "execution_count": 147,
   "metadata": {},
   "outputs": [],
   "source": [
    "scalar = MinMaxScaler(feature_range=(0,1))\n",
    "scaled_data = scalar.fit_transform(data['Closing Price (USD)'].values.reshape(-1, 1))\n",
    "# scaled_data = scaled_data.tolist()\n",
    "# scaled_data[:5] "
   ]
  },
  {
   "cell_type": "code",
   "execution_count": 148,
   "metadata": {},
   "outputs": [],
   "source": [
    "time_intervals_to_train = 24 # 5 min intervals. 1 Hour = 60 min = 12 intervals.\n",
    "prediction_interval = 12 \n",
    "\n",
    "x_train = [] #it will be list of multiple arrays\n",
    "y_train = [] #it will be list of multiple arrays\n",
    "\n",
    "for i in range(time_intervals_to_train, len(scaled_data) -  prediction_interval):\n",
    "    x_train.append(scaled_data[i - time_intervals_to_train : i, 0])\n",
    "    y_train.append(scaled_data[i + prediction_interval , 0])\n",
    "\n",
    "x_train = np.array(x_train)\n",
    "y_train = np.array(y_train)"
   ]
  },
  {
   "cell_type": "code",
   "execution_count": 149,
   "metadata": {},
   "outputs": [
    {
     "data": {
      "text/plain": [
       "(513, 24)"
      ]
     },
     "execution_count": 149,
     "metadata": {},
     "output_type": "execute_result"
    }
   ],
   "source": [
    "# x_train = np.stack([arr for arr in x_train if len(arr) == 24])\n",
    "x_train.shape\n"
   ]
  },
  {
   "cell_type": "code",
   "execution_count": 150,
   "metadata": {},
   "outputs": [
    {
     "data": {
      "text/plain": [
       "(513, 24, 1)"
      ]
     },
     "execution_count": 150,
     "metadata": {},
     "output_type": "execute_result"
    }
   ],
   "source": [
    "# reshape x_train to fit LSTM mode\n",
    "x_train = np.reshape(x_train,(x_train.shape[0], x_train.shape[1], 1))\n",
    "x_train.shape"
   ]
  },
  {
   "cell_type": "code",
   "execution_count": 151,
   "metadata": {},
   "outputs": [
    {
     "data": {
      "text/plain": [
       "array([0.03202945, 0.0496413 , 0.04954667, 0.05104607, 0.05294915])"
      ]
     },
     "execution_count": 151,
     "metadata": {},
     "output_type": "execute_result"
    }
   ],
   "source": [
    "y_train.shape\n",
    "y_train[:5]"
   ]
  },
  {
   "cell_type": "code",
   "execution_count": 152,
   "metadata": {},
   "outputs": [],
   "source": [
    "#create Model\n",
    "model = Sequential()\n",
    "model.add(LSTM(128, return_sequences = True, input_shape = (x_train.shape[1], 1), activation = \"relu\"))\n",
    "model.add(Dropout(0.4))\n",
    "model.add(LSTM(64, return_sequences = True,  activation = \"relu\"))\n",
    "model.add(Dropout(0.3))\n",
    "model.add(LSTM(32, return_sequences = True,  activation = \"relu\"))\n",
    "model.add(Dropout(0.2))\n",
    "model.add(Dense(1, activation = \"sigmoid\"))"
   ]
  },
  {
   "cell_type": "code",
   "execution_count": 153,
   "metadata": {},
   "outputs": [
    {
     "name": "stdout",
     "output_type": "stream",
     "text": [
      "Model: \"sequential_4\"\n",
      "_________________________________________________________________\n",
      " Layer (type)                Output Shape              Param #   \n",
      "=================================================================\n",
      " lstm_7 (LSTM)               (None, 24, 128)           66560     \n",
      "                                                                 \n",
      " dropout_6 (Dropout)         (None, 24, 128)           0         \n",
      "                                                                 \n",
      " lstm_8 (LSTM)               (None, 24, 64)            49408     \n",
      "                                                                 \n",
      " dropout_7 (Dropout)         (None, 24, 64)            0         \n",
      "                                                                 \n",
      " lstm_9 (LSTM)               (None, 24, 32)            12416     \n",
      "                                                                 \n",
      " dropout_8 (Dropout)         (None, 24, 32)            0         \n",
      "                                                                 \n",
      " dense_2 (Dense)             (None, 24, 1)             33        \n",
      "                                                                 \n",
      "=================================================================\n",
      "Total params: 128,417\n",
      "Trainable params: 128,417\n",
      "Non-trainable params: 0\n",
      "_________________________________________________________________\n"
     ]
    }
   ],
   "source": [
    "model.summary()"
   ]
  },
  {
   "cell_type": "code",
   "execution_count": 154,
   "metadata": {},
   "outputs": [],
   "source": [
    "model.compile(loss='mean_squared_error', optimizer='adam', metrics=['accuracy'])"
   ]
  },
  {
   "cell_type": "code",
   "execution_count": 155,
   "metadata": {},
   "outputs": [
    {
     "data": {
      "text/plain": [
       "(513, 24, 1)"
      ]
     },
     "execution_count": 155,
     "metadata": {},
     "output_type": "execute_result"
    }
   ],
   "source": [
    "x_train.shape"
   ]
  },
  {
   "cell_type": "code",
   "execution_count": 159,
   "metadata": {},
   "outputs": [
    {
     "data": {
      "text/plain": [
       "(513,)"
      ]
     },
     "execution_count": 159,
     "metadata": {},
     "output_type": "execute_result"
    }
   ],
   "source": [
    "y_train.shape"
   ]
  },
  {
   "cell_type": "code",
   "execution_count": 157,
   "metadata": {},
   "outputs": [
    {
     "name": "stdout",
     "output_type": "stream",
     "text": [
      "Epoch 1/10\n",
      "9/9 [==============================] - 5s 65ms/step - loss: 0.1011 - accuracy: 0.0000e+00\n",
      "Epoch 2/10\n",
      "9/9 [==============================] - 1s 66ms/step - loss: 0.0979 - accuracy: 0.0000e+00\n",
      "Epoch 3/10\n",
      "9/9 [==============================] - 1s 64ms/step - loss: 0.0963 - accuracy: 0.0000e+00\n",
      "Epoch 4/10\n",
      "9/9 [==============================] - 1s 63ms/step - loss: 0.0961 - accuracy: 0.0000e+00\n",
      "Epoch 5/10\n",
      "9/9 [==============================] - 1s 66ms/step - loss: 0.0955 - accuracy: 0.0000e+00\n",
      "Epoch 6/10\n",
      "9/9 [==============================] - 1s 69ms/step - loss: 0.0954 - accuracy: 0.0000e+00\n",
      "Epoch 7/10\n",
      "9/9 [==============================] - 1s 68ms/step - loss: 0.0953 - accuracy: 0.0000e+00\n",
      "Epoch 8/10\n",
      "9/9 [==============================] - 1s 64ms/step - loss: 0.0953 - accuracy: 0.0000e+00\n",
      "Epoch 9/10\n",
      "9/9 [==============================] - 1s 64ms/step - loss: 0.0957 - accuracy: 0.0000e+00\n",
      "Epoch 10/10\n",
      "9/9 [==============================] - 1s 67ms/step - loss: 0.0956 - accuracy: 0.0000e+00\n"
     ]
    },
    {
     "data": {
      "text/plain": [
       "<keras.callbacks.History at 0x23c642cf430>"
      ]
     },
     "execution_count": 157,
     "metadata": {},
     "output_type": "execute_result"
    }
   ],
   "source": [
    "model.fit(x_train, y_train, epochs=10, batch_size=64)"
   ]
  },
  {
   "cell_type": "code",
   "execution_count": 158,
   "metadata": {},
   "outputs": [
    {
     "data": {
      "text/plain": [
       "Index(['Currency', 'Date', 'Closing Price (USD)', '24h Open (USD)',\n",
       "       '24h High (USD)', '24h Low (USD)'],\n",
       "      dtype='object')"
      ]
     },
     "execution_count": 158,
     "metadata": {},
     "output_type": "execute_result"
    }
   ],
   "source": [
    "data.columns"
   ]
  },
  {
   "cell_type": "code",
   "execution_count": null,
   "metadata": {},
   "outputs": [],
   "source": []
  }
 ],
 "metadata": {
  "interpreter": {
   "hash": "c840f6c7048d47154ae564f8b2dd6286cd2d0276b7f993f4a4989ea8e4061e6d"
  },
  "kernelspec": {
   "display_name": "Python 3.9.5 64-bit",
   "language": "python",
   "name": "python3"
  },
  "language_info": {
   "codemirror_mode": {
    "name": "ipython",
    "version": 3
   },
   "file_extension": ".py",
   "mimetype": "text/x-python",
   "name": "python",
   "nbconvert_exporter": "python",
   "pygments_lexer": "ipython3",
   "version": "3.9.5"
  },
  "orig_nbformat": 4
 },
 "nbformat": 4,
 "nbformat_minor": 2
}
