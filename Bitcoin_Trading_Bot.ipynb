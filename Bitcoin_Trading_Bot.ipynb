{
 "cells": [
  {
   "cell_type": "code",
   "execution_count": 9,
   "metadata": {},
   "outputs": [],
   "source": [
    "import talib\n",
    "import websocket\n",
    "import numpy as np, pandas as pd, matplotlib.pyplot as plt\n",
    "import json"
   ]
  },
  {
   "cell_type": "markdown",
   "metadata": {},
   "source": [
    "# Specify the parameters for Trading strategy"
   ]
  },
  {
   "cell_type": "code",
   "execution_count": 10,
   "metadata": {},
   "outputs": [],
   "source": [
    "\n",
    "aroon_time_period = 14\n",
    "amount = 1000\n",
    "core_trade_amount = amount * 0.80\n",
    "trade_amount = amount * 0.20\n",
    "money_end = amount \n",
    "portfolio = 0\n",
    "investment = []\n"
   ]
  },
  {
   "cell_type": "markdown",
   "metadata": {},
   "source": [
    "# Paper Trading Simulation Function"
   ]
  },
  {
   "cell_type": "code",
   "execution_count": 13,
   "metadata": {},
   "outputs": [],
   "source": [
    "def buy(allocated_money, price):\n",
    "    global money_end, portfolio, investment\n",
    "\n",
    "    quantity = allocated_money / price\n",
    "    money_end -= quantity * price\n",
    "    portfolio += quantity\n",
    "\n",
    "    if investment == []:\n",
    "        investment.append(allocated_money)\n",
    "    else:\n",
    "        investment.append(allocated_money) \n",
    "        investment[-1] += investment[-2]\n",
    "    return {'quantity':quantity, 'investment':investment, 'money_end': money_end, 'portfolio':portfolio}\n",
    "\n",
    "def sell(allocated_money, price):\n",
    "    global money_end, portfolio, investment\n",
    "\n",
    "    quantity = allocated_money / price\n",
    "    money_end += quantity * price\n",
    "    portfolio -= quantity\n",
    "    investment.append(-allocated_money)\n",
    "    investment[-1] += investment[-2]\n",
    "    return {'quantity':quantity, 'investment':investment, 'money_end': money_end, 'portfolio':portfolio}"
   ]
  },
  {
   "cell_type": "code",
   "execution_count": 14,
   "metadata": {},
   "outputs": [
    {
     "data": {
      "text/plain": [
       "{'quantity': 16.666666666666668,\n",
       " 'investment': [100],\n",
       " 'money_end': 900.0,\n",
       " 'portfolio': 16.666666666666668}"
      ]
     },
     "execution_count": 14,
     "metadata": {},
     "output_type": "execute_result"
    }
   ],
   "source": [
    "buy(100, 6) # buy product of 100 with unit price of 6"
   ]
  },
  {
   "cell_type": "code",
   "execution_count": 15,
   "metadata": {},
   "outputs": [
    {
     "data": {
      "text/plain": [
       "{'quantity': 28.571428571428573,\n",
       " 'investment': [100, -100],\n",
       " 'money_end': 1100.0,\n",
       " 'portfolio': -11.904761904761905}"
      ]
     },
     "execution_count": 15,
     "metadata": {},
     "output_type": "execute_result"
    }
   ],
   "source": [
    "sell(200,7) # buy product of 200 with unit price of 7"
   ]
  },
  {
   "cell_type": "code",
   "execution_count": null,
   "metadata": {},
   "outputs": [],
   "source": []
  }
 ],
 "metadata": {
  "interpreter": {
   "hash": "c840f6c7048d47154ae564f8b2dd6286cd2d0276b7f993f4a4989ea8e4061e6d"
  },
  "kernelspec": {
   "display_name": "Python 3.9.5 64-bit",
   "language": "python",
   "name": "python3"
  },
  "language_info": {
   "codemirror_mode": {
    "name": "ipython",
    "version": 3
   },
   "file_extension": ".py",
   "mimetype": "text/x-python",
   "name": "python",
   "nbconvert_exporter": "python",
   "pygments_lexer": "ipython3",
   "version": "3.9.5"
  },
  "orig_nbformat": 4
 },
 "nbformat": 4,
 "nbformat_minor": 2
}
