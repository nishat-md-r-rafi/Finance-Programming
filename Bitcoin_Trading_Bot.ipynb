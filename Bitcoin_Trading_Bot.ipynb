{
 "cells": [
  {
   "cell_type": "code",
   "execution_count": 9,
   "metadata": {},
   "outputs": [],
   "source": [
    "import talib\n",
    "import websocket\n",
    "import numpy as np, pandas as pd, matplotlib.pyplot as plt\n",
    "import json"
   ]
  },
  {
   "cell_type": "markdown",
   "metadata": {},
   "source": [
    "# Specify the parameters for Trading strategy"
   ]
  },
  {
   "cell_type": "code",
   "execution_count": 43,
   "metadata": {},
   "outputs": [],
   "source": [
    "\n",
    "aroon_time_period = 14\n",
    "amount = 1000\n",
    "core_trade_amount = amount * 0.80\n",
    "trade_amount = amount * 0.20\n",
    "money_end = amount \n",
    "portfolio = 0\n",
    "investment, closes, highs, lows = [], [], [], []\n",
    "\n",
    "# For trading\n",
    "core_to_trade = True\n",
    "core_quantity = 0\n"
   ]
  },
  {
   "cell_type": "markdown",
   "metadata": {},
   "source": [
    "# Paper Trading Simulation Function"
   ]
  },
  {
   "cell_type": "code",
   "execution_count": 13,
   "metadata": {},
   "outputs": [],
   "source": [
    "def buy(allocated_money, price):\n",
    "    global money_end, portfolio, investment\n",
    "\n",
    "    quantity = allocated_money / price\n",
    "    money_end -= quantity * price\n",
    "    portfolio += quantity\n",
    "\n",
    "    if investment == []:\n",
    "        investment.append(allocated_money)\n",
    "    else:\n",
    "        investment.append(allocated_money) \n",
    "        investment[-1] += investment[-2]\n",
    "    return {'quantity':quantity, 'investment':investment, 'money_end': money_end, 'portfolio':portfolio}\n",
    "\n",
    "def sell(allocated_money, price):\n",
    "    global money_end, portfolio, investment\n",
    "\n",
    "    quantity = allocated_money / price\n",
    "    money_end += quantity * price\n",
    "    portfolio -= quantity\n",
    "    investment.append(-allocated_money)\n",
    "    investment[-1] += investment[-2]\n",
    "    return {'quantity':quantity, 'investment':investment, 'money_end': money_end, 'portfolio':portfolio}"
   ]
  },
  {
   "cell_type": "code",
   "execution_count": 14,
   "metadata": {},
   "outputs": [
    {
     "data": {
      "text/plain": [
       "{'quantity': 16.666666666666668,\n",
       " 'investment': [100],\n",
       " 'money_end': 900.0,\n",
       " 'portfolio': 16.666666666666668}"
      ]
     },
     "execution_count": 14,
     "metadata": {},
     "output_type": "execute_result"
    }
   ],
   "source": [
    "buy(100, 6) # buy product of 100 with unit price of 6"
   ]
  },
  {
   "cell_type": "code",
   "execution_count": 15,
   "metadata": {},
   "outputs": [
    {
     "data": {
      "text/plain": [
       "{'quantity': 28.571428571428573,\n",
       " 'investment': [100, -100],\n",
       " 'money_end': 1100.0,\n",
       " 'portfolio': -11.904761904761905}"
      ]
     },
     "execution_count": 15,
     "metadata": {},
     "output_type": "execute_result"
    }
   ],
   "source": [
    "sell(200,7) # buy product of 200 with unit price of 7"
   ]
  },
  {
   "cell_type": "markdown",
   "metadata": {},
   "source": [
    "# Extract Real Time Crypto Data Using Web-Socket, making Candle Stick, Trading Strategy"
   ]
  },
  {
   "cell_type": "code",
   "execution_count": 46,
   "metadata": {},
   "outputs": [],
   "source": [
    "cc = 'btcusd'\n",
    "interval = '1m'\n",
    "socket = f'wss://stream.binance.com:9443/ws/{cc}t@kline_{interval}'\n",
    "\n",
    "def on_message(ws, message):\n",
    "    global closes, highs, lows, core_to_trade, core_quantity, money_end, portfolio, investment\n",
    "\n",
    "    message_json = json.loads(message)\n",
    "    cs = message_json['k'] # cs: candle stick\n",
    "    print({'candle_is_closed': cs['x'], 'close':cs['c'], 'high':cs['h'], 'low':cs['l']})\n",
    "\n",
    "    # check the candle close\n",
    "\n",
    "    if cs['x']:\n",
    "        highs.append(cs['h'])\n",
    "        lows.append(cs['l'])\n",
    "        closes.append(cs['c'])\n",
    "        last_price = closes[-1]\n",
    "        print('The Highs Lows and Closes become :-', {'highs': highs, 'lows': lows, 'closes': closes, 'last_price': last_price})\n",
    "\n",
    "\n",
    "    \n",
    "    \n",
    "\n",
    "def on_close(ws):\n",
    "    print('close')\n",
    "\n",
    "ws = websocket.WebSocketApp(socket, on_message=on_message, on_close=on_close)"
   ]
  },
  {
   "cell_type": "code",
   "execution_count": 47,
   "metadata": {},
   "outputs": [
    {
     "name": "stdout",
     "output_type": "stream",
     "text": [
      "{'candle_is_closed': False, 'close': '19197.20000000', 'high': '19198.42000000', 'low': '19156.41000000'}\n",
      "{'candle_is_closed': False, 'close': '19190.40000000', 'high': '19218.18000000', 'low': '19156.41000000'}\n",
      "{'candle_is_closed': False, 'close': '19188.55000000', 'high': '19218.18000000', 'low': '19156.41000000'}\n",
      "{'candle_is_closed': False, 'close': '19176.52000000', 'high': '19218.18000000', 'low': '19156.41000000'}\n",
      "{'candle_is_closed': False, 'close': '19171.52000000', 'high': '19218.18000000', 'low': '19156.41000000'}\n",
      "{'candle_is_closed': False, 'close': '19181.88000000', 'high': '19218.18000000', 'low': '19156.41000000'}\n",
      "{'candle_is_closed': False, 'close': '19178.46000000', 'high': '19218.18000000', 'low': '19156.41000000'}\n",
      "{'candle_is_closed': False, 'close': '19185.25000000', 'high': '19218.18000000', 'low': '19156.41000000'}\n",
      "{'candle_is_closed': False, 'close': '19190.99000000', 'high': '19218.18000000', 'low': '19156.41000000'}\n",
      "{'candle_is_closed': False, 'close': '19176.79000000', 'high': '19218.18000000', 'low': '19156.41000000'}\n",
      "{'candle_is_closed': False, 'close': '19173.25000000', 'high': '19218.18000000', 'low': '19156.41000000'}\n",
      "{'candle_is_closed': False, 'close': '19158.70000000', 'high': '19218.18000000', 'low': '19156.41000000'}\n",
      "{'candle_is_closed': False, 'close': '19165.51000000', 'high': '19218.18000000', 'low': '19155.16000000'}\n",
      "{'candle_is_closed': True, 'close': '19165.51000000', 'high': '19218.18000000', 'low': '19155.16000000'}\n",
      "The Highs Lows and Closes become :- {'highs': ['19149.20000000', '19218.18000000'], 'lows': ['19091.02000000', '19155.16000000'], 'closes': ['19136.57000000', '19165.51000000']}\n",
      "{'candle_is_closed': False, 'close': '19165.50000000', 'high': '19165.52000000', 'low': '19165.50000000'}\n",
      "{'candle_is_closed': False, 'close': '19157.84000000', 'high': '19165.52000000', 'low': '19157.83000000'}\n",
      "{'candle_is_closed': False, 'close': '19149.01000000', 'high': '19165.52000000', 'low': '19149.00000000'}\n",
      "{'candle_is_closed': False, 'close': '19146.87000000', 'high': '19165.52000000', 'low': '19146.86000000'}\n",
      "{'candle_is_closed': False, 'close': '19142.85000000', 'high': '19165.52000000', 'low': '19140.00000000'}\n",
      "{'candle_is_closed': False, 'close': '19180.16000000', 'high': '19200.80000000', 'low': '19128.01000000'}\n",
      "{'candle_is_closed': False, 'close': '19168.37000000', 'high': '19200.80000000', 'low': '19128.01000000'}\n",
      "{'candle_is_closed': False, 'close': '19170.30000000', 'high': '19200.80000000', 'low': '19128.01000000'}\n",
      "{'candle_is_closed': False, 'close': '19182.24000000', 'high': '19200.80000000', 'low': '19128.01000000'}\n",
      "{'candle_is_closed': False, 'close': '19190.56000000', 'high': '19200.80000000', 'low': '19128.01000000'}\n",
      "{'candle_is_closed': False, 'close': '19190.59000000', 'high': '19200.80000000', 'low': '19128.01000000'}\n",
      "{'candle_is_closed': False, 'close': '19194.83000000', 'high': '19200.80000000', 'low': '19128.01000000'}\n",
      "{'candle_is_closed': False, 'close': '19190.65000000', 'high': '19200.80000000', 'low': '19128.01000000'}\n",
      "{'candle_is_closed': False, 'close': '19187.00000000', 'high': '19200.80000000', 'low': '19128.01000000'}\n",
      "{'candle_is_closed': False, 'close': '19188.16000000', 'high': '19200.80000000', 'low': '19128.01000000'}\n",
      "{'candle_is_closed': False, 'close': '19185.53000000', 'high': '19200.80000000', 'low': '19128.01000000'}\n",
      "{'candle_is_closed': False, 'close': '19187.96000000', 'high': '19200.80000000', 'low': '19128.01000000'}\n",
      "{'candle_is_closed': False, 'close': '19186.17000000', 'high': '19200.80000000', 'low': '19128.01000000'}\n",
      "{'candle_is_closed': False, 'close': '19187.85000000', 'high': '19200.80000000', 'low': '19128.01000000'}\n",
      "{'candle_is_closed': False, 'close': '19170.01000000', 'high': '19200.80000000', 'low': '19128.01000000'}\n",
      "{'candle_is_closed': False, 'close': '19174.10000000', 'high': '19200.80000000', 'low': '19128.01000000'}\n"
     ]
    },
    {
     "data": {
      "text/plain": [
       "False"
      ]
     },
     "execution_count": 47,
     "metadata": {},
     "output_type": "execute_result"
    }
   ],
   "source": [
    "ws.run_forever()"
   ]
  },
  {
   "cell_type": "code",
   "execution_count": 49,
   "metadata": {},
   "outputs": [
    {
     "name": "stdout",
     "output_type": "stream",
     "text": [
      "The Highs Lows and Closes are:-  {'highs': ['19149.20000000', '19218.18000000'], 'lows': ['19091.02000000', '19155.16000000'], 'closes': ['19136.57000000', '19165.51000000']}\n"
     ]
    }
   ],
   "source": [
    "print('The Highs Lows and Closes are:- ', {'highs': highs, 'lows': lows, 'closes': closes, })"
   ]
  },
  {
   "cell_type": "markdown",
   "metadata": {},
   "source": [
    "# Message will give:\n",
    "{\"t\":1655541660000,\"T\":1655541719999,\"s\":\"BTCUSDT\",\"i\":\"1m\",\"f\":1413808576,\"L\":1413809419,\"o\":\"19083.84000000\",\"c\":\"19132.82000000\",\"h\":\"19134.05000000\",\"l\":\"19083.20000000\",\"v\":\"83.27792000\",\"n\":844,\"x\":false,\"q\":\"1591651.11390620\",\"V\":\"44.36906000\",\"Q\":\"847883.69327980\",\"B\":\"0\"}}\n",
    "\n",
    "Here:\n",
    "\"x\": false -> means the same candle, so after 1 minute it will be true to indicate a new candle. We will work with one candle."
   ]
  },
  {
   "cell_type": "code",
   "execution_count": 35,
   "metadata": {},
   "outputs": [
    {
     "data": {
      "text/plain": [
       "False"
      ]
     },
     "execution_count": 35,
     "metadata": {},
     "output_type": "execute_result"
    }
   ],
   "source": [
    "message = {\"t\":1655541660000,\"T\":1655541719999,\"s\":\"BTCUSDT\",\"i\":\"1m\",\"f\":1413808576,\"L\":1413809419,\"o\":\"19083.84000000\",\"c\":\"19132.82000000\",\"h\":\"19134.05000000\",\"l\":\"19083.20000000\",\"v\":\"83.27792000\",\"n\":844,\"x\":False,\"q\":\"1591651.11390620\",\"V\":\"44.36906000\",\"Q\":\"847883.69327980\",\"B\":\"0\"}\n",
    "\n",
    "# after json.loads function \n",
    "\n",
    "message_json = {'e': 'kline', 'E': 1655543350450, 's': 'BTCUSDT', 'k': {'t': 1655543340000, 'T': 1655543399999, 's': 'BTCUSDT', 'i': '1m', 'f': 1413867906, 'L': 1413868113, 'o': '18989.99000000', 'c': '19001.00000000', 'h': '19003.18000000', 'l': '18989.98000000', 'v': '6.26305000', 'n': 208, 'x': False, 'q': '118990.39466130', 'V': '3.85642000', 'Q': '73266.47400480', 'B': '0'}}"
   ]
  },
  {
   "cell_type": "code",
   "execution_count": null,
   "metadata": {},
   "outputs": [],
   "source": []
  }
 ],
 "metadata": {
  "interpreter": {
   "hash": "c840f6c7048d47154ae564f8b2dd6286cd2d0276b7f993f4a4989ea8e4061e6d"
  },
  "kernelspec": {
   "display_name": "Python 3.9.5 64-bit",
   "language": "python",
   "name": "python3"
  },
  "language_info": {
   "codemirror_mode": {
    "name": "ipython",
    "version": 3
   },
   "file_extension": ".py",
   "mimetype": "text/x-python",
   "name": "python",
   "nbconvert_exporter": "python",
   "pygments_lexer": "ipython3",
   "version": "3.9.5"
  },
  "orig_nbformat": 4
 },
 "nbformat": 4,
 "nbformat_minor": 2
}
